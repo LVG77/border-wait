{
 "cells": [
  {
   "cell_type": "code",
   "execution_count": 2,
   "metadata": {},
   "outputs": [],
   "source": [
    "import re\n",
    "import urllib.parse\n",
    "import urllib.request\n",
    "import json"
   ]
  },
  {
   "cell_type": "code",
   "execution_count": 3,
   "metadata": {},
   "outputs": [],
   "source": [
    "url = 'https://www.quebec512.info/en/Carte/Element.ashx'\n",
    "action = 'PosteFrontalier'\n",
    "\n",
    "def make_get_request(url: str, **kwargs):\n",
    "    params = urllib.parse.urlencode(kwargs)\n",
    "    url = f\"{url}?{params}\"\n",
    "    with urllib.request.urlopen(url) as response:\n",
    "        data = json.loads(response.read().decode())\n",
    "\n",
    "    return data"
   ]
  },
  {
   "cell_type": "code",
   "execution_count": 4,
   "metadata": {},
   "outputs": [],
   "source": [
    "border_ids = make_get_request(url=url, action=action, lang='en', zoom=8, xMin=-78.25, yMin=42.19, xMax=-68.11, yMax=49.41)"
   ]
  },
  {
   "cell_type": "code",
   "execution_count": null,
   "metadata": {},
   "outputs": [
    {
     "data": {
      "text/plain": [
       "[{'lng': -70.39708,\n",
       "  'lat': 45.80577,\n",
       "  'ico': 'b_PosteFrontalier.png',\n",
       "  'id': '2',\n",
       "  'info': 'Armstrong / Jackman'},\n",
       " {'lng': -73.08488,\n",
       "  'lat': 45.01553,\n",
       "  'ico': 'b_PosteFrontalier.png',\n",
       "  'id': '20',\n",
       "  'info': 'St-Armand/Philipsburg / Highgate Springs'},\n",
       " {'lng': -73.45264,\n",
       "  'lat': 45.00887,\n",
       "  'ico': 'b_PosteFrontalier.png',\n",
       "  'id': '21',\n",
       "  'info': 'Saint-Bernard-de-Lacolle / Champlain'},\n",
       " {'lng': -71.79345,\n",
       "  'lat': 45.0107,\n",
       "  'ico': 'b_PosteFrontalier.png',\n",
       "  'id': '24',\n",
       "  'info': 'Stanhope / Norton'},\n",
       " {'lng': -72.0883,\n",
       "  'lat': 45.00591,\n",
       "  'ico': 'b_PosteFrontalier.png',\n",
       "  'id': '25',\n",
       "  'info': 'Stanstead / Derby Line'}]"
      ]
     },
     "metadata": {},
     "output_type": "display_data"
    }
   ],
   "source": [
    "border_ids "
   ]
  },
  {
   "cell_type": "code",
   "execution_count": 5,
   "metadata": {},
   "outputs": [],
   "source": [
    "def extract_selected_elements(data: list, keys: list):\n",
    "    result = []\n",
    "    for item in data:\n",
    "        selected_elements = {key: item[key] for key in keys if key in item}\n",
    "        result.append(selected_elements)\n",
    "    return result"
   ]
  },
  {
   "cell_type": "code",
   "execution_count": 14,
   "metadata": {},
   "outputs": [],
   "source": [
    "url_info = 'https://www.quebec511.info/en/Carte/Fenetres/FenetrePosteFrontalier.aspx'\n",
    "\n",
    "def get_info_html(url: str, **kwargs):\n",
    "    params = urllib.parse.urlencode(kwargs)\n",
    "    url = f\"{url}?{params}\"\n",
    "    with urllib.request.urlopen(url) as response:\n",
    "        html = response.read().decode('utf-8')\n",
    "\n",
    "    return html"
   ]
  },
  {
   "cell_type": "code",
   "execution_count": 9,
   "metadata": {},
   "outputs": [],
   "source": [
    "info_html = get_info_html(url=url_info, id=21)"
   ]
  },
  {
   "cell_type": "code",
   "execution_count": 15,
   "metadata": {},
   "outputs": [],
   "source": [
    "def extract_waittime(html):\n",
    "    re_start = re.compile('tdAttenteVoyageurAmericain')\n",
    "    to_can = re_start.split(info_html)[1].split('</td>')[0].strip('\\\"')\n",
    "    re_start = re.compile('tdAttenteVoyageurCanadien')\n",
    "    to_us = re_start.split(info_html)[1].split('</td>')[0].strip('\\\"')\n",
    "    return {'Travellers to CAN:': to_can, 'Travellers to US': to_us}"
   ]
  },
  {
   "cell_type": "code",
   "execution_count": 11,
   "metadata": {},
   "outputs": [
    {
     "data": {
      "text/plain": [
       "{'Travellers to CAN:': '>No delay', 'Travellers to US': '>No Delay'}"
      ]
     },
     "execution_count": 11,
     "metadata": {},
     "output_type": "execute_result"
    }
   ],
   "source": [
    "extract_waittime(info_html)"
   ]
  },
  {
   "cell_type": "code",
   "execution_count": null,
   "metadata": {},
   "outputs": [],
   "source": [
    "def add_waittime(data: list):\n",
    "    url_info = 'https://www.quebec511.info/en/Carte/Fenetres/FenetrePosteFrontalier.aspx'\n",
    "    result = []\n",
    "    for d in data:\n",
    "        id = d['id']\n",
    "        info_html = get_info_html(url=url_info, id=id)\n",
    "        wt_dict = extract_waittime(info_html)\n",
    "        result.append(d|wt_dict)\n",
    "    return result\n"
   ]
  },
  {
   "cell_type": "code",
   "execution_count": 16,
   "metadata": {},
   "outputs": [
    {
     "data": {
      "text/plain": [
       "[{'lng': -70.39708,\n",
       "  'lat': 45.80577,\n",
       "  'ico': 'b_PosteFrontalier.png',\n",
       "  'id': '2',\n",
       "  'info': 'Armstrong / Jackman',\n",
       "  'Travellers to CAN:': '>No delay',\n",
       "  'Travellers to US': '>No Delay'},\n",
       " {'lng': -73.08488,\n",
       "  'lat': 45.01553,\n",
       "  'ico': 'b_PosteFrontalier.png',\n",
       "  'id': '20',\n",
       "  'info': 'St-Armand/Philipsburg / Highgate Springs',\n",
       "  'Travellers to CAN:': '>No delay',\n",
       "  'Travellers to US': '>No Delay'},\n",
       " {'lng': -73.45264,\n",
       "  'lat': 45.00887,\n",
       "  'ico': 'b_PosteFrontalier.png',\n",
       "  'id': '21',\n",
       "  'info': 'Saint-Bernard-de-Lacolle / Champlain',\n",
       "  'Travellers to CAN:': '>No delay',\n",
       "  'Travellers to US': '>No Delay'},\n",
       " {'lng': -71.79345,\n",
       "  'lat': 45.0107,\n",
       "  'ico': 'b_PosteFrontalier.png',\n",
       "  'id': '24',\n",
       "  'info': 'Stanhope / Norton',\n",
       "  'Travellers to CAN:': '>No delay',\n",
       "  'Travellers to US': '>No Delay'},\n",
       " {'lng': -72.0883,\n",
       "  'lat': 45.00591,\n",
       "  'ico': 'b_PosteFrontalier.png',\n",
       "  'id': '25',\n",
       "  'info': 'Stanstead / Derby Line',\n",
       "  'Travellers to CAN:': '>No delay',\n",
       "  'Travellers to US': '>No Delay'}]"
      ]
     },
     "execution_count": 16,
     "metadata": {},
     "output_type": "execute_result"
    }
   ],
   "source": [
    "add_waittime(border_ids)"
   ]
  },
  {
   "cell_type": "code",
   "execution_count": null,
   "metadata": {},
   "outputs": [],
   "source": [
    "def compile_data():\n",
    "    border_ids = make_get_request(url=url, action=action, lang='en', zoom=8, xmin=-78.25, ymin=42.19, xmax=-68.11, ymax=49.41)\n",
    "    return add_waittime(border_ids)"
   ]
  }
 ],
 "metadata": {
  "kernelspec": {
   "display_name": "base",
   "language": "python",
   "name": "python3"
  },
  "language_info": {
   "codemirror_mode": {
    "name": "ipython",
    "version": 3
   },
   "file_extension": ".py",
   "mimetype": "text/x-python",
   "name": "python",
   "nbconvert_exporter": "python",
   "pygments_lexer": "ipython3",
   "version": "3.10.6"
  },
  "orig_nbformat": 4
 },
 "nbformat": 4,
 "nbformat_minor": 2
}
